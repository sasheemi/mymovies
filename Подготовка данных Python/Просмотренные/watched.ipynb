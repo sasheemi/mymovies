{
 "cells": [
  {
   "cell_type": "code",
   "execution_count": 1,
   "id": "dce4f416",
   "metadata": {},
   "outputs": [],
   "source": [
    "from bs4 import BeautifulSoup\n",
    "import numpy as np\n",
    "import pandas as pd \n",
    "import re"
   ]
  },
  {
   "cell_type": "markdown",
   "id": "94c7a362",
   "metadata": {},
   "source": [
    "# Просмотренные фильмы\n",
    "Соберем из html-выгрузок из личного кабинета Кинопоиска датафрейм со всеми просмотренными фильмами."
   ]
  },
  {
   "cell_type": "code",
   "execution_count": 3,
   "id": "c7601717",
   "metadata": {},
   "outputs": [],
   "source": [
    "# загрузим из хранилища необходимые файлы\n",
    "\n",
    "with open(\"0.txt\", 'r', encoding='utf-8') as f:\n",
    "    soup = BeautifulSoup(f, \"html.parser\")"
   ]
  },
  {
   "cell_type": "code",
   "execution_count": 13,
   "id": "65e62d43",
   "metadata": {},
   "outputs": [],
   "source": [
    "# преобразуем данные в нужные нам типы и соберем в списки\n",
    "\n",
    "ru_names = []\n",
    "en_names = []\n",
    "years = []\n",
    "ratings = []\n",
    "ratings_numbers = []\n",
    "lengths = []\n",
    "\n",
    "infos = soup.findAll('div', attrs={'class': 'info'})\n",
    "for info in infos:\n",
    "    runame_n_year = info.find('div', attrs={'class': 'nameRus'}).text\n",
    "    en_name = info.find('div', attrs={'class': 'nameEng'}).text\n",
    "    rating = float(''.join(re.findall(r'\\d.\\d{3}', info.find('b').text)))\n",
    "    ratings_number = int(''.join(re.findall(r'\\d+', info.findAll('span', attrs={'class': 'text-grey'})[0].text)))\n",
    "    length = int(''.join(re.findall(r'\\d+', info.findAll('span', attrs={'class': 'text-grey'})[1].text)))\n",
    "\n",
    "    ru_name = ''.join(re.findall('.* \\(', runame_n_year))[:-2]\n",
    "    year = runame_n_year[-5:-1]\n",
    "\n",
    "    ru_names.append(ru_name)\n",
    "    en_names.append(en_name)\n",
    "    years.append(year)\n",
    "    ratings.append(rating)\n",
    "    ratings_numbers.append(ratings_number)\n",
    "    lengths.append(length)"
   ]
  },
  {
   "cell_type": "code",
   "execution_count": 5,
   "id": "de02b891",
   "metadata": {},
   "outputs": [],
   "source": [
    "# зададим уникальный шаблон для выгрузок \n",
    "\n",
    "def df_templater():\n",
    "    return {'ru_name': ru_names,\n",
    "            'en_name': en_names,\n",
    "            'year': years,\n",
    "            'rating': ratings,\n",
    "            'ratings_number': ratings_numbers,\n",
    "            'length': lengths}    "
   ]
  },
  {
   "cell_type": "code",
   "execution_count": 14,
   "id": "42b19b80",
   "metadata": {
    "scrolled": true
   },
   "outputs": [
    {
     "data": {
      "text/html": [
       "<div>\n",
       "<style scoped>\n",
       "    .dataframe tbody tr th:only-of-type {\n",
       "        vertical-align: middle;\n",
       "    }\n",
       "\n",
       "    .dataframe tbody tr th {\n",
       "        vertical-align: top;\n",
       "    }\n",
       "\n",
       "    .dataframe thead th {\n",
       "        text-align: right;\n",
       "    }\n",
       "</style>\n",
       "<table border=\"1\" class=\"dataframe\">\n",
       "  <thead>\n",
       "    <tr style=\"text-align: right;\">\n",
       "      <th></th>\n",
       "      <th>ru_name</th>\n",
       "      <th>en_name</th>\n",
       "      <th>year</th>\n",
       "      <th>rating</th>\n",
       "      <th>ratings_number</th>\n",
       "      <th>length</th>\n",
       "    </tr>\n",
       "  </thead>\n",
       "  <tbody>\n",
       "    <tr>\n",
       "      <th>0</th>\n",
       "      <td>Агент паранойи</td>\n",
       "      <td>Mousou dairinin</td>\n",
       "      <td>2004</td>\n",
       "      <td>7.442</td>\n",
       "      <td>6165</td>\n",
       "      <td>25</td>\n",
       "    </tr>\n",
       "    <tr>\n",
       "      <th>1</th>\n",
       "      <td>Истинная грусть</td>\n",
       "      <td>Perfect Blue</td>\n",
       "      <td>1998</td>\n",
       "      <td>7.799</td>\n",
       "      <td>30946</td>\n",
       "      <td>81</td>\n",
       "    </tr>\n",
       "    <tr>\n",
       "      <th>2</th>\n",
       "      <td>Паприка</td>\n",
       "      <td>Paprika</td>\n",
       "      <td>2006</td>\n",
       "      <td>7.688</td>\n",
       "      <td>45712</td>\n",
       "      <td>90</td>\n",
       "    </tr>\n",
       "    <tr>\n",
       "      <th>3</th>\n",
       "      <td>Гравити Фолз</td>\n",
       "      <td>Gravity Falls</td>\n",
       "      <td>2016</td>\n",
       "      <td>8.960</td>\n",
       "      <td>600374</td>\n",
       "      <td>22</td>\n",
       "    </tr>\n",
       "    <tr>\n",
       "      <th>4</th>\n",
       "      <td>Навсикая из долины ветров</td>\n",
       "      <td>Kaze no tani no Naushika</td>\n",
       "      <td>1984</td>\n",
       "      <td>8.180</td>\n",
       "      <td>83789</td>\n",
       "      <td>117</td>\n",
       "    </tr>\n",
       "  </tbody>\n",
       "</table>\n",
       "</div>"
      ],
      "text/plain": [
       "                     ru_name                   en_name  year  rating  \\\n",
       "0             Агент паранойи           Mousou dairinin  2004   7.442   \n",
       "1            Истинная грусть              Perfect Blue  1998   7.799   \n",
       "2                    Паприка                   Paprika  2006   7.688   \n",
       "3               Гравити Фолз             Gravity Falls  2016   8.960   \n",
       "4  Навсикая из долины ветров  Kaze no tani no Naushika  1984   8.180   \n",
       "\n",
       "   ratings_number  length  \n",
       "0            6165      25  \n",
       "1           30946      81  \n",
       "2           45712      90  \n",
       "3          600374      22  \n",
       "4           83789     117  "
      ]
     },
     "execution_count": 14,
     "metadata": {},
     "output_type": "execute_result"
    }
   ],
   "source": [
    "# по шаблону соберем из списков датафрейм\n",
    "\n",
    "watched = pd.DataFrame(df_templater())\n",
    "watched.head()"
   ]
  },
  {
   "cell_type": "code",
   "execution_count": 15,
   "id": "de5bd5f0",
   "metadata": {},
   "outputs": [],
   "source": [
    "# сохраним таблицу\n",
    "\n",
    "with open('D:\\MovieDB\\CreatingTables\\watched\\watched.csv', 'w', encoding='utf-8', newline='') as f:\n",
    "    f.write(watched.to_csv())"
   ]
  }
 ],
 "metadata": {
  "kernelspec": {
   "display_name": "Python 3 (ipykernel)",
   "language": "python",
   "name": "python3"
  },
  "language_info": {
   "codemirror_mode": {
    "name": "ipython",
    "version": 3
   },
   "file_extension": ".py",
   "mimetype": "text/x-python",
   "name": "python",
   "nbconvert_exporter": "python",
   "pygments_lexer": "ipython3",
   "version": "3.12.1"
  }
 },
 "nbformat": 4,
 "nbformat_minor": 5
}
