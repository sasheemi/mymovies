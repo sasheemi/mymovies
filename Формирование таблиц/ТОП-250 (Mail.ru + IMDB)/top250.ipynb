{
 "cells": [
  {
   "cell_type": "code",
   "execution_count": 1,
   "id": "34fafaed",
   "metadata": {},
   "outputs": [],
   "source": [
    "import pandas as pd\n",
    "import numpy as np\n",
    "import requests\n",
    "from bs4 import BeautifulSoup\n",
    "from fake_useragent import UserAgent\n",
    "import re"
   ]
  },
  {
   "cell_type": "markdown",
   "id": "385ade65",
   "metadata": {},
   "source": [
    "# TOP-250 фильмов по версии ~~КиноПоиска~~ Mail.ru\n",
    "Обнаружила, что КиноПоиск не любит, когда с него выгружают информацию, поэтому я нашла аналогичный топ в разделе КИНО на Mail.ru. Причем прошлые страницы c Кинопоиска удалось раскопать, потому что они находятся на старой части сайта, в разделе личного кабинета. Страницы фильмов и топов имеют другой интерфейс и, как оказалось, другую политику конфиденциальности."
   ]
  },
  {
   "cell_type": "code",
   "execution_count": 2,
   "id": "0b68c7c7",
   "metadata": {},
   "outputs": [],
   "source": [
    "# загрузим файл.\n",
    "\n",
    "with open(\"D:/MovieDB/CreatingTables/top250/0.html\", 'r', encoding='utf-8') as f:\n",
    "    soup = BeautifulSoup(f, 'html.parser')"
   ]
  },
  {
   "cell_type": "markdown",
   "id": "4c169645",
   "metadata": {},
   "source": [
    "## HTML, содержащий нужную информацию выглядит как-то так\n",
    "Часть с названием, страной, годом и жанрами:\n",
    "\n",
    "    <div class=\"p-itemevent-small__info\">\n",
    "        <span class=\"text text_block text_fixed text_light_large\">1. \n",
    "            <a class=\"link link_inline link-holder link-holder_itemevent link-holder_itemevent_small\" href=\"/cinema/movies/624334_zelenaja_milja/\">\n",
    "                <span class=\"link__text\">\n",
    "                    Зеленая миля\n",
    "                </span>\n",
    "            </a>\n",
    "        </span>\n",
    "        <span class=\"text text_block text_fixed text_light_small color_gray margin_bottom_5\">\n",
    "            The Green Mile\n",
    "        </span>\n",
    "        <div class=\"margin_top_5\">\n",
    "            <a class=\" p_link_black\" href=\"/cinema/all/usa/\">\n",
    "                США\n",
    "            </a>, \n",
    "            <a class=\" p_link_black\" href=\"/cinema/all/1999/\">\n",
    "                1999\n",
    "            </a>, \n",
    "            <a class=\" p_link_black\" href=\"/cinema/all/drama/\">драма</a>, \n",
    "            <a class=\" p_link_black\" href=\"/cinema/all/detektiv/\">\n",
    "                детектив\n",
    "            </a>, \n",
    "            <a class=\" p_link_black\" href=\"/cinema/all/kriminal/\">\n",
    "                криминал</a>, \n",
    "            <a class=\" p_link_black\" \n",
    "               href=\"/cinema/all/fentezi/\">\n",
    "                фэнтези\n",
    "            </a>\n",
    "        </div>\n",
    "    </div>\n",
    "   \n",
    " ---\n",
    " И с оценками пользователей Mail и IMDB:\n",
    " \n",
    "    <div class=\"p-rate-flag p-rate-flag_medium margin_right_5\">\n",
    "        <div class=\"p-rate-flag__inner\">\n",
    "            <svg class=\"icon icon_media-ui icon_indent_top-n1 icon_fill_current icon_svg icon_media-ui margin_right_5\" height=\"18\" width=\"18\">\n",
    "                <use class=\"icon__use\" xlink:href=\"/-/35cf95fd/bem/web/web.bundles/common/common.svg#icon_actions_rating\">\n",
    "                </use>\n",
    "            </svg>\n",
    "            <span class=\"p-rate-flag__text\">\n",
    "                8.9\n",
    "            </span>\n",
    "        </div>\n",
    "        <div class=\"p-rate-flag__imdb-inner p-rate-flag__imdb-inner_left\">\n",
    "            <span class=\"p-rate-flag__imdb-title\">\n",
    "                IMDb\n",
    "            </span>\n",
    "            <span class=\"p-rate-flag__imdb-text\">\n",
    "                8.6\n",
    "            </span>\n",
    "        </div>\n",
    "    </div>"
   ]
  },
  {
   "cell_type": "code",
   "execution_count": 3,
   "id": "763eef02",
   "metadata": {},
   "outputs": [],
   "source": [
    "# создадим списки с нужными блоками кода.\n",
    "\n",
    "infos = soup.findAll('div', {'class': 'p-itemevent-small__info'})\n",
    "ratings_raw = soup.findAll('div', {'class': 'p-rate-flag p-rate-flag_medium margin_right_5'})"
   ]
  },
  {
   "cell_type": "code",
   "execution_count": 4,
   "id": "4c2582ba",
   "metadata": {},
   "outputs": [
    {
     "data": {
      "text/plain": [
       "(500, 250)"
      ]
     },
     "execution_count": 4,
     "metadata": {},
     "output_type": "execute_result"
    }
   ],
   "source": [
    "# проверим, сколько элементов получилось в каждом списке.\n",
    "# почему-то список с основной информацией содержит в 2 раза больше значений, чем нужно.\n",
    "\n",
    "len(infos), len(ratings_raw)"
   ]
  },
  {
   "cell_type": "code",
   "execution_count": 5,
   "id": "81e04067",
   "metadata": {
    "scrolled": true
   },
   "outputs": [
    {
     "name": "stdout",
     "output_type": "stream",
     "text": [
      "<span class=\"link__text\">Зеленая миля</span>\n",
      "None\n",
      "<span class=\"link__text\">Побег из Шоушенка</span>\n",
      "None\n",
      "<span class=\"link__text\">Иван Васильевич меняет профессию</span>\n",
      "None\n",
      "<span class=\"link__text\">Бриллиантовая рука</span>\n",
      "None\n",
      "<span class=\"link__text\">Операция «Ы» и другие приключения Шурика</span>\n",
      "None\n"
     ]
    }
   ],
   "source": [
    "# оказывается, в этом списке значения идут через одно.\n",
    "\n",
    "for i in range(10):\n",
    "    print(infos[i].find('span', {'class': 'link__text'}))"
   ]
  },
  {
   "cell_type": "code",
   "execution_count": 6,
   "id": "ee417cde",
   "metadata": {},
   "outputs": [],
   "source": [
    "# не будем разбираться, почему так, и просто удалим лишние значения.\n",
    "\n",
    "clean_infos = []\n",
    "for i in range(0, len(infos), 2):\n",
    "    clean_infos.append(infos[i])"
   ]
  },
  {
   "cell_type": "code",
   "execution_count": 7,
   "id": "3d1823a2",
   "metadata": {},
   "outputs": [],
   "source": [
    "# соберем все данные в списки.\n",
    "# обратим внимание на то, что стран, как и жанров, может быть несколько.\n",
    "\n",
    "ru_names = []\n",
    "en_names = []\n",
    "countries = []\n",
    "years = []\n",
    "genres = []\n",
    "ratings = []\n",
    "imdb_ratings = []\n",
    "\n",
    "for info, rating in zip(clean_infos, ratings_raw):\n",
    "    ru_name = info.find('span', {'class': 'link__text'}).text\n",
    "    is_en_name = info.find('span', {'class': 'text text_block text_fixed text_light_small color_gray margin_bottom_5'})\n",
    "    if is_en_name:\n",
    "        en_name = is_en_name.text\n",
    "    else:\n",
    "        en_name = ''\n",
    "    \n",
    "    others = info.find('div', {'class': 'margin_top_5'}).findAll('a', {'class': 'p_link_black'})\n",
    "    genre = []\n",
    "    country = []\n",
    "    for other in others:\n",
    "        try:\n",
    "            year = int(other.text)\n",
    "        except:\n",
    "            regex = '[А-Я]'\n",
    "            if re.match(regex, str(other.text)[0]):\n",
    "                country.append(other.text)\n",
    "            else:\n",
    "                genre.append(other.text)            \n",
    "    \n",
    "    rate = float(rating.find('span', {'class': 'p-rate-flag__text'}).text)\n",
    "    imdb_rate = float(rating.find('span', {'class': 'p-rate-flag__imdb-text'}).text)\n",
    "    \n",
    "    ru_names.append(ru_name)\n",
    "    en_names.append(en_name)\n",
    "    genres.append(genre)\n",
    "    years.append(year)\n",
    "    countries.append(country)\n",
    "    ratings.append(rate)\n",
    "    imdb_ratings.append(imdb_rate)"
   ]
  },
  {
   "cell_type": "code",
   "execution_count": 8,
   "id": "93e30418",
   "metadata": {},
   "outputs": [],
   "source": [
    "# создадим функцию, которая будет собирать списки в датафрейм.\n",
    " \n",
    "def df_templater():\n",
    "    return {'ru_name': ru_names,\n",
    "           'en_name': en_names,\n",
    "           'country': countries,\n",
    "           'year': years,\n",
    "           'genre': genres,\n",
    "           'rating': ratings,\n",
    "           'imdb_rating': imdb_ratings}"
   ]
  },
  {
   "cell_type": "code",
   "execution_count": 9,
   "id": "e9b1c889",
   "metadata": {
    "scrolled": true
   },
   "outputs": [
    {
     "data": {
      "text/html": [
       "<div>\n",
       "<style scoped>\n",
       "    .dataframe tbody tr th:only-of-type {\n",
       "        vertical-align: middle;\n",
       "    }\n",
       "\n",
       "    .dataframe tbody tr th {\n",
       "        vertical-align: top;\n",
       "    }\n",
       "\n",
       "    .dataframe thead th {\n",
       "        text-align: right;\n",
       "    }\n",
       "</style>\n",
       "<table border=\"1\" class=\"dataframe\">\n",
       "  <thead>\n",
       "    <tr style=\"text-align: right;\">\n",
       "      <th></th>\n",
       "      <th>ru_name</th>\n",
       "      <th>en_name</th>\n",
       "      <th>country</th>\n",
       "      <th>year</th>\n",
       "      <th>genre</th>\n",
       "      <th>rating</th>\n",
       "      <th>imdb_rating</th>\n",
       "    </tr>\n",
       "  </thead>\n",
       "  <tbody>\n",
       "    <tr>\n",
       "      <th>0</th>\n",
       "      <td>Зеленая миля</td>\n",
       "      <td>The Green Mile</td>\n",
       "      <td>[США]</td>\n",
       "      <td>1999</td>\n",
       "      <td>[драма, детектив, криминал, фэнтези]</td>\n",
       "      <td>8.9</td>\n",
       "      <td>8.6</td>\n",
       "    </tr>\n",
       "    <tr>\n",
       "      <th>1</th>\n",
       "      <td>Побег из Шоушенка</td>\n",
       "      <td>The Shawshank Redemption</td>\n",
       "      <td>[США]</td>\n",
       "      <td>1994</td>\n",
       "      <td>[драма, криминал]</td>\n",
       "      <td>8.8</td>\n",
       "      <td>9.3</td>\n",
       "    </tr>\n",
       "    <tr>\n",
       "      <th>2</th>\n",
       "      <td>Иван Васильевич меняет профессию</td>\n",
       "      <td></td>\n",
       "      <td>[СССР]</td>\n",
       "      <td>1973</td>\n",
       "      <td>[комедия, приключения, семейный, фантастика]</td>\n",
       "      <td>8.7</td>\n",
       "      <td>8.2</td>\n",
       "    </tr>\n",
       "    <tr>\n",
       "      <th>3</th>\n",
       "      <td>Бриллиантовая рука</td>\n",
       "      <td></td>\n",
       "      <td>[СССР]</td>\n",
       "      <td>1968</td>\n",
       "      <td>[комедия, криминал, приключения, семейный]</td>\n",
       "      <td>8.6</td>\n",
       "      <td>8.3</td>\n",
       "    </tr>\n",
       "    <tr>\n",
       "      <th>4</th>\n",
       "      <td>Операция «Ы» и другие приключения Шурика</td>\n",
       "      <td></td>\n",
       "      <td>[СССР]</td>\n",
       "      <td>1965</td>\n",
       "      <td>[комедия]</td>\n",
       "      <td>8.6</td>\n",
       "      <td>8.5</td>\n",
       "    </tr>\n",
       "  </tbody>\n",
       "</table>\n",
       "</div>"
      ],
      "text/plain": [
       "                                    ru_name                   en_name country  \\\n",
       "0                              Зеленая миля            The Green Mile   [США]   \n",
       "1                         Побег из Шоушенка  The Shawshank Redemption   [США]   \n",
       "2          Иван Васильевич меняет профессию                            [СССР]   \n",
       "3                        Бриллиантовая рука                            [СССР]   \n",
       "4  Операция «Ы» и другие приключения Шурика                            [СССР]   \n",
       "\n",
       "   year                                         genre  rating  imdb_rating  \n",
       "0  1999          [драма, детектив, криминал, фэнтези]     8.9          8.6  \n",
       "1  1994                             [драма, криминал]     8.8          9.3  \n",
       "2  1973  [комедия, приключения, семейный, фантастика]     8.7          8.2  \n",
       "3  1968    [комедия, криминал, приключения, семейный]     8.6          8.3  \n",
       "4  1965                                     [комедия]     8.6          8.5  "
      ]
     },
     "execution_count": 9,
     "metadata": {},
     "output_type": "execute_result"
    }
   ],
   "source": [
    "# соберем датафрейм.\n",
    "\n",
    "top250 = pd.DataFrame(df_templater())\n",
    "top250.head()"
   ]
  },
  {
   "cell_type": "code",
   "execution_count": 11,
   "id": "c0f00e5d",
   "metadata": {},
   "outputs": [],
   "source": [
    "# сохраним файл.\n",
    "\n",
    "with open('D:/MovieDB/CreatingTables/top250/top250.csv', 'w', encoding='utf-8', newline='') as f:\n",
    "    f.write(top250.to_csv())"
   ]
  }
 ],
 "metadata": {
  "kernelspec": {
   "display_name": "Python 3 (ipykernel)",
   "language": "python",
   "name": "python3"
  },
  "language_info": {
   "codemirror_mode": {
    "name": "ipython",
    "version": 3
   },
   "file_extension": ".py",
   "mimetype": "text/x-python",
   "name": "python",
   "nbconvert_exporter": "python",
   "pygments_lexer": "ipython3",
   "version": "3.11.5"
  }
 },
 "nbformat": 4,
 "nbformat_minor": 5
}
