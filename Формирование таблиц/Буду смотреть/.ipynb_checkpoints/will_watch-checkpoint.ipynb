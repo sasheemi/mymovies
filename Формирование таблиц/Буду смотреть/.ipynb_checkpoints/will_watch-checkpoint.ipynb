{
 "cells": [
  {
   "cell_type": "code",
   "execution_count": 1,
   "id": "1700398d",
   "metadata": {},
   "outputs": [],
   "source": [
    "from bs4 import BeautifulSoup\n",
    "import numpy as np\n",
    "import pandas as pd \n",
    "import re"
   ]
  },
  {
   "cell_type": "markdown",
   "id": "77c797be",
   "metadata": {},
   "source": [
    "# Буду смотреть\n",
    "Проделаем работу, практически полностью аналогичную работе с просмотренными фильмами. На этот раз html-выгрузка содержит больше интересной информации, в т.ч. имя режиссера, жанры и страну выпуска, но с этим разберемся как-нибудь в следующий раз :)"
   ]
  },
  {
   "cell_type": "code",
   "execution_count": 67,
   "id": "611fae9b",
   "metadata": {},
   "outputs": [],
   "source": [
    "soup = BeautifulSoup(open(\"D:/MovieDB/CreatingTables/will_watch/0.html\", 'r', encoding='utf-8'))"
   ]
  },
  {
   "cell_type": "markdown",
   "id": "0dae705a",
   "metadata": {},
   "source": [
    "## Запись об одном фильме выглядит как-то так:\n",
    "\n",
    "    <div class=\"info\">\n",
    "        <a class=\"name\" href=\"/film/23712/\">Стена</a>\n",
    "        <span>Pink Floyd: The Wall (1982) 99 мин.</span>\n",
    "        <span style=\"margin: 0\">\n",
    "            Великобритания,            <i>реж. <a class=\"lined\" href=\"/name/28208/\">Алан Паркер</a></i>      </span>\n",
    "        <span>(мюзикл, драма)</span>\n",
    "\n",
    "        <span><a class=\"lined\" href=\"/name/77374/\">Боб Гелдоф</a>, <a class=\"lined\" href=\"/name/158491/\">Кристин Харгривз</a>, ...</span>\n",
    "        <span class=\"last\"><a href=\"/film/23712/sites/\">Сайты</a><b> &bull; </b>Афиша<b> &bull; </b><a href=\"/film/23712/video/\">Трейлеры</a><b> &bull; </b><a href=\"/film/23712/stills/\">Кадры</a><b> &bull; </b><a href=\"\">DVD</a>\n",
    "        </span>\n",
    "    </div>\n",
    "    <div class=\"etc\">\n",
    "        <div class=\"countries\">\n",
    "                        <div class=\"viewDate\">\n",
    "                14 июля 1982\n",
    "                <div class=\"flag flag8\" title=\"Франция\"><span></span></div>\n",
    "                                    <i class=\"dvd_2\">\n",
    "                                                                                                </i>\n",
    "                            </div>\n",
    "                    </div>\n",
    "        <div style=\"padding: 0; margin: 0\">\n",
    "            <p class=\"rating\">\n",
    "    <div class=\"vote_widget miniVoteDiv rating_user_23712\">&nbsp;</div>\n",
    "<script nonce=\"\" type=\"text/javascript\">\n",
    "    ur_data.push({film: 23712, rating: '', user_code: 'b2121f37d09b111ec3a3837ddb8ddc3b'});\n",
    "        </script>\n",
    "    <div class=\"noPosters kpRating  green\"><span>8.119 <span>39 732</span></span></div>"
   ]
  },
  {
   "cell_type": "code",
   "execution_count": 78,
   "id": "c30b68f6",
   "metadata": {},
   "outputs": [],
   "source": [
    "regex = re.compile('.*kpRating.*')\n",
    "\n",
    "infos = soup.findAll('div', {'class': 'info'})\n",
    "raw_ratings = soup.findAll('div', {'class': regex})"
   ]
  },
  {
   "cell_type": "code",
   "execution_count": 122,
   "id": "940d82a8",
   "metadata": {},
   "outputs": [],
   "source": [
    "ru_names = []\n",
    "en_names = []\n",
    "years = []\n",
    "ratings = []\n",
    "ratings_numbers = []\n",
    "lengths = []\n",
    "\n",
    "for info, raw_rating in zip(infos, raw_ratings):\n",
    "    rating_all = raw_rating.findAll('span')\n",
    "    rating = int(''.join(re.findall('\\d+', rating_all[0].text[:5])))\n",
    "    ratings_number = int(''.join(re.findall('\\d+', rating_all[1].text)))\n",
    "    \n",
    "    ru_name = info.find('a', {'class': 'name'}).text\n",
    "    \n",
    "    other = info.find('span').text\n",
    "    en_name = ''.join(re.findall('.*\\d{4}', other))[:-6]\n",
    "    year = int(''.join(re.findall('\\d{4}', other)))\n",
    "    length = int((''.join(re.findall('\\d+ мин.', other)))[:-5])\n",
    "    \n",
    "    ru_names.append(ru_name)\n",
    "    en_names.append(en_name)\n",
    "    years.append(year)\n",
    "    ratings.append(rating)\n",
    "    ratings_numbers.append(ratings_number)\n",
    "    lengths.append(length)"
   ]
  },
  {
   "cell_type": "code",
   "execution_count": 120,
   "id": "40bf50d5",
   "metadata": {},
   "outputs": [],
   "source": [
    "def df_templater():\n",
    "    return {'ru_name': ru_names,\n",
    "            'en_name': en_names,\n",
    "            'year': years,\n",
    "            'rating': ratings,\n",
    "            'ratings_number': ratings_numbers,\n",
    "            'length': lengths}    "
   ]
  },
  {
   "cell_type": "code",
   "execution_count": 123,
   "id": "732573b1",
   "metadata": {
    "scrolled": true
   },
   "outputs": [
    {
     "data": {
      "text/html": [
       "<div>\n",
       "<style scoped>\n",
       "    .dataframe tbody tr th:only-of-type {\n",
       "        vertical-align: middle;\n",
       "    }\n",
       "\n",
       "    .dataframe tbody tr th {\n",
       "        vertical-align: top;\n",
       "    }\n",
       "\n",
       "    .dataframe thead th {\n",
       "        text-align: right;\n",
       "    }\n",
       "</style>\n",
       "<table border=\"1\" class=\"dataframe\">\n",
       "  <thead>\n",
       "    <tr style=\"text-align: right;\">\n",
       "      <th></th>\n",
       "      <th>ru_name</th>\n",
       "      <th>en_name</th>\n",
       "      <th>year</th>\n",
       "      <th>rating</th>\n",
       "      <th>ratings_number</th>\n",
       "      <th>length</th>\n",
       "    </tr>\n",
       "  </thead>\n",
       "  <tbody>\n",
       "    <tr>\n",
       "      <th>0</th>\n",
       "      <td>Стена</td>\n",
       "      <td>Pink Floyd: The Wall</td>\n",
       "      <td>1982</td>\n",
       "      <td>8119</td>\n",
       "      <td>39732</td>\n",
       "      <td>99</td>\n",
       "    </tr>\n",
       "    <tr>\n",
       "      <th>1</th>\n",
       "      <td>Шоссе в никуда</td>\n",
       "      <td>Lost Highway</td>\n",
       "      <td>1996</td>\n",
       "      <td>7428</td>\n",
       "      <td>48803</td>\n",
       "      <td>134</td>\n",
       "    </tr>\n",
       "    <tr>\n",
       "      <th>2</th>\n",
       "      <td>Гордость и предубеждение</td>\n",
       "      <td>Pride &amp; Prejudice</td>\n",
       "      <td>2005</td>\n",
       "      <td>8086</td>\n",
       "      <td>388371</td>\n",
       "      <td>129</td>\n",
       "    </tr>\n",
       "    <tr>\n",
       "      <th>3</th>\n",
       "      <td>Отвращение</td>\n",
       "      <td>Repulsion</td>\n",
       "      <td>1965</td>\n",
       "      <td>7621</td>\n",
       "      <td>16771</td>\n",
       "      <td>105</td>\n",
       "    </tr>\n",
       "    <tr>\n",
       "      <th>4</th>\n",
       "      <td>Ребенок Розмари</td>\n",
       "      <td>Rosemary's Baby</td>\n",
       "      <td>1968</td>\n",
       "      <td>7663</td>\n",
       "      <td>43521</td>\n",
       "      <td>137</td>\n",
       "    </tr>\n",
       "  </tbody>\n",
       "</table>\n",
       "</div>"
      ],
      "text/plain": [
       "                    ru_name               en_name  year  rating  \\\n",
       "0                     Стена  Pink Floyd: The Wall  1982    8119   \n",
       "1            Шоссе в никуда          Lost Highway  1996    7428   \n",
       "2  Гордость и предубеждение     Pride & Prejudice  2005    8086   \n",
       "3                Отвращение             Repulsion  1965    7621   \n",
       "4           Ребенок Розмари       Rosemary's Baby  1968    7663   \n",
       "\n",
       "   ratings_number  length  \n",
       "0           39732      99  \n",
       "1           48803     134  \n",
       "2          388371     129  \n",
       "3           16771     105  \n",
       "4           43521     137  "
      ]
     },
     "execution_count": 123,
     "metadata": {},
     "output_type": "execute_result"
    }
   ],
   "source": [
    "will_watch = pd.DataFrame(df_templater())\n",
    "will_watch.head()"
   ]
  },
  {
   "cell_type": "code",
   "execution_count": 125,
   "id": "6befedc9",
   "metadata": {},
   "outputs": [],
   "source": [
    "with open('D:\\MovieDB\\CreatingTables\\will_watch\\will_watch.csv', 'w', encoding='utf-8') as f:\n",
    "    f.write(will_watch.to_csv())"
   ]
  },
  {
   "cell_type": "markdown",
   "id": "e2e484a9",
   "metadata": {},
   "source": [
    "При работе с этим файлом у меня появились проблемы с кодировкой, их происхождение пока неясно. Но в любом случае нужно будет учитывать это в дальнейшей работе."
   ]
  }
 ],
 "metadata": {
  "kernelspec": {
   "display_name": "Python 3 (ipykernel)",
   "language": "python",
   "name": "python3"
  },
  "language_info": {
   "codemirror_mode": {
    "name": "ipython",
    "version": 3
   },
   "file_extension": ".py",
   "mimetype": "text/x-python",
   "name": "python",
   "nbconvert_exporter": "python",
   "pygments_lexer": "ipython3",
   "version": "3.11.5"
  }
 },
 "nbformat": 4,
 "nbformat_minor": 5
}
